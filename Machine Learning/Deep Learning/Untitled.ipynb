{
 "cells": [
  {
   "cell_type": "code",
   "execution_count": 1,
   "id": "02f6d561-105f-4525-ab24-8cfd8cb94729",
   "metadata": {},
   "outputs": [
    {
     "data": {
      "text/plain": [
       "50"
      ]
     },
     "execution_count": 1,
     "metadata": {},
     "output_type": "execute_result"
    }
   ],
   "source": [
    "24+26"
   ]
  },
  {
   "cell_type": "raw",
   "id": "ee160100-16e0-4a37-8af9-1dad63feefa4",
   "metadata": {},
   "source": [
    "print(\"my name is Victor\")"
   ]
  },
  {
   "cell_type": "code",
   "execution_count": 2,
   "id": "1e263cdf-d5c4-40a2-9fc8-1c1c0ca39f2b",
   "metadata": {},
   "outputs": [
    {
     "name": "stdout",
     "output_type": "stream",
     "text": [
      "my name is Victor\n"
     ]
    }
   ],
   "source": [
    "print(\"my name is Victor\")"
   ]
  },
  {
   "cell_type": "code",
   "execution_count": 3,
   "id": "82e87877-a2d3-41bf-b3de-3e095c6bdeaf",
   "metadata": {},
   "outputs": [
    {
     "name": "stdout",
     "output_type": "stream",
     "text": [
      "we have a challenge\n"
     ]
    }
   ],
   "source": [
    "print(\"we have a challenge\")"
   ]
  },
  {
   "cell_type": "code",
   "execution_count": 4,
   "id": "b7023303-da32-47b6-8807-8a7039de99f2",
   "metadata": {},
   "outputs": [
    {
     "data": {
      "text/plain": [
       "70"
      ]
     },
     "execution_count": 4,
     "metadata": {},
     "output_type": "execute_result"
    }
   ],
   "source": [
    "25+45"
   ]
  },
  {
   "cell_type": "code",
   "execution_count": null,
   "id": "efa1df22-8c1f-40ee-95c0-0bf21e282699",
   "metadata": {},
   "outputs": [],
   "source": []
  }
 ],
 "metadata": {
  "kernelspec": {
   "display_name": "Python 3 (ipykernel)",
   "language": "python",
   "name": "python3"
  },
  "language_info": {
   "codemirror_mode": {
    "name": "ipython",
    "version": 3
   },
   "file_extension": ".py",
   "mimetype": "text/x-python",
   "name": "python",
   "nbconvert_exporter": "python",
   "pygments_lexer": "ipython3",
   "version": "3.11.7"
  }
 },
 "nbformat": 4,
 "nbformat_minor": 5
}
